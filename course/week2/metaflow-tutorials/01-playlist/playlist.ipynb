{
 "cells": [
  {
   "cell_type": "markdown",
   "metadata": {},
   "source": [
    "# Episode 01-playlist: Let's build you a movie playlist.\n",
    "\n",
    "### PlayListFlow is a movie playlist generator, and this notebook shows how you can use the Metaflow client to access data from the versioned Metaflow runs. In this example,  you can view all the historical playlists."
   ]
  },
  {
   "cell_type": "markdown",
   "metadata": {},
   "source": [
    "## Import the metaflow client"
   ]
  },
  {
   "cell_type": "code",
   "execution_count": 1,
   "metadata": {},
   "outputs": [
    {
     "name": "stdout",
     "output_type": "stream",
     "text": [
      "Current metadata provider: local@/workspace/data-centric-deep-learning/course/week2/metaflow-tutorials/01-playlist\n"
     ]
    }
   ],
   "source": [
    "from metaflow import Flow, get_metadata\n",
    "print(\"Current metadata provider: %s\" % get_metadata())"
   ]
  },
  {
   "cell_type": "markdown",
   "metadata": {},
   "source": [
    "## Print your latest generated playlist"
   ]
  },
  {
   "cell_type": "code",
   "execution_count": 2,
   "metadata": {},
   "outputs": [
    {
     "name": "stdout",
     "output_type": "stream",
     "text": [
      "Using run: Run('PlayListFlow/1654784091785555')\n"
     ]
    }
   ],
   "source": [
    "run = Flow('PlayListFlow').latest_successful_run\n",
    "print(\"Using run: %s\" % str(run))"
   ]
  },
  {
   "cell_type": "code",
   "execution_count": 3,
   "metadata": {},
   "outputs": [
    {
     "name": "stdout",
     "output_type": "stream",
     "text": [
      "Playlist generated on 2022-06-09 14:14:54.295000\n",
      "\n",
      "Playlist for movies in genre 'Sci-Fi'\n",
      "Pick 1: '28 Days Later...'\n",
      "Pick 2: 'RoboCop 3'\n",
      "Pick 3: 'Timecop'\n",
      "Pick 4: 'Volcano'\n",
      "Pick 5: 'The Lazarus Effect'\n",
      "Bonus Pick: 'The Lincoln Lawyer' from 'Crime|Drama|Thriller'\n"
     ]
    }
   ],
   "source": [
    "print(\"Playlist generated on %s\\n\" % str(run.finished_at))\n",
    "print(\"Playlist for movies in genre '%s'\" % run.data.genre)\n",
    "for pick, movie in enumerate(run.data.playlist, start=1):\n",
    "    print(\"Pick %d: '%s'\" % (pick, movie))\n",
    "    if pick >= run.data.recommendations:\n",
    "        break\n",
    "                \n",
    "print(\"Bonus Pick: '%s' from '%s'\" % (run.data.bonus[0], run.data.bonus[1]))"
   ]
  },
  {
   "cell_type": "markdown",
   "metadata": {},
   "source": [
    "## See what the top pick was for previously generated playlists"
   ]
  },
  {
   "cell_type": "code",
   "execution_count": 4,
   "metadata": {},
   "outputs": [
    {
     "name": "stdout",
     "output_type": "stream",
     "text": [
      "Playlist generated on 2022-06-09 14:14:54.295000\n",
      "Playlist for movies in genre 'Sci-Fi'\n",
      "Top Pick: '28 Days Later...'\n",
      "\n",
      "\n"
     ]
    }
   ],
   "source": [
    "for run in Flow('PlayListFlow').runs():\n",
    "    if run.successful:\n",
    "        print(\"Playlist generated on %s\" % run.finished_at)\n",
    "        print(\"Playlist for movies in genre '%s'\" % run.data.genre)\n",
    "        if run.data.playlist:\n",
    "            print(\"Top Pick: '%s'\" % run.data.playlist[0])\n",
    "        print('\\n')"
   ]
  }
 ],
 "metadata": {
  "kernelspec": {
   "display_name": "Python 3.8.13 64-bit ('3.8.13')",
   "language": "python",
   "name": "python3"
  },
  "language_info": {
   "codemirror_mode": {
    "name": "ipython",
    "version": 3
   },
   "file_extension": ".py",
   "mimetype": "text/x-python",
   "name": "python",
   "nbconvert_exporter": "python",
   "pygments_lexer": "ipython3",
   "version": "3.8.13"
  },
  "vscode": {
   "interpreter": {
    "hash": "110cc1dee26208153f2972f08a2ad52b6a56238dc66d48e87fb757ef2996db56"
   }
  }
 },
 "nbformat": 4,
 "nbformat_minor": 2
}
