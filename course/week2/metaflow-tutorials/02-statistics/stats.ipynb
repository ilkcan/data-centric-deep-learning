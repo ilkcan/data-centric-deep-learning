{
 "cells": [
  {
   "cell_type": "markdown",
   "metadata": {},
   "source": [
    "# Episode 02: Is this Data Science?\n",
    "\n",
    "### MovieStatsFlow loads the movie metadata CSV file into a Pandas Dataframe and computes some movie genre specific statistics. You can use this notebook and the Metaflow client to eyeball the results and make some simple plots. "
   ]
  },
  {
   "cell_type": "markdown",
   "metadata": {},
   "source": [
    "## Import the metaflow client"
   ]
  },
  {
   "cell_type": "code",
   "execution_count": 1,
   "metadata": {},
   "outputs": [
    {
     "name": "stdout",
     "output_type": "stream",
     "text": [
      "Current metadata provider: local@/workspace/data-centric-deep-learning/course/week2/metaflow-tutorials/02-statistics\n"
     ]
    }
   ],
   "source": [
    "from metaflow import Flow, get_metadata\n",
    "import matplotlib.pyplot as plt\n",
    "print(\"Current metadata provider: %s\" % get_metadata())"
   ]
  },
  {
   "cell_type": "markdown",
   "metadata": {},
   "source": [
    "## Get the movie statistics from the latest run of MovieStatsFlow"
   ]
  },
  {
   "cell_type": "code",
   "execution_count": 2,
   "metadata": {},
   "outputs": [
    {
     "name": "stdout",
     "output_type": "stream",
     "text": [
      "Using run: Run('MovieStatsFlow/1654784259376786')\n"
     ]
    }
   ],
   "source": [
    "run = Flow('MovieStatsFlow').latest_successful_run\n",
    "print(\"Using run: %s\" % str(run))\n",
    "\n",
    "genre_stats = run.data.genre_stats"
   ]
  },
  {
   "cell_type": "markdown",
   "metadata": {},
   "source": [
    "## Create a bar plot of the median gross box office for the top-5 grossing genres"
   ]
  },
  {
   "cell_type": "code",
   "execution_count": 4,
   "metadata": {},
   "outputs": [
    {
     "data": {
      "image/png": "[encoded data removed]",
      "text/plain": [
       "<Figure size 432x288 with 1 Axes>"
      ]
     },
     "metadata": {
      "needs_background": "light"
     },
     "output_type": "display_data"
    }
   ],
   "source": [
    "# Get median for each genre\n",
    "data = [(genre, data['quartiles'][1]) \\\n",
    "        for genre, data \\\n",
    "        in genre_stats.items()]\n",
    "\n",
    "# Sort and unpack into a list of labels, and medians\n",
    "genre, median = zip(*[(genre, median)\\\n",
    "                      for genre, median\\\n",
    "                      in sorted(data, key=lambda pair: pair[1])])\n",
    "\n",
    "# Create the bar plot\n",
    "plt.bar(genre[-5:], median[-5:], align='center', alpha=0.5)\n",
    "plt.ylabel(\"Gross Box office (US Dollars)\")\n",
    "plt.show()"
   ]
  }
 ],
 "metadata": {
  "kernelspec": {
   "display_name": "Python 3.8.13 64-bit ('3.8.13')",
   "language": "python",
   "name": "python3"
  },
  "language_info": {
   "codemirror_mode": {
    "name": "ipython",
    "version": 3
   },
   "file_extension": ".py",
   "mimetype": "text/x-python",
   "name": "python",
   "nbconvert_exporter": "python",
   "pygments_lexer": "ipython3",
   "version": "3.8.13"
  },
  "vscode": {
   "interpreter": {
    "hash": "110cc1dee26208153f2972f08a2ad52b6a56238dc66d48e87fb757ef2996db56"
   }
  }
 },
 "nbformat": 4,
 "nbformat_minor": 2
}
